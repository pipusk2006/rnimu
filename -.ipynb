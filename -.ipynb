{
 "cells": [
  {
   "cell_type": "markdown",
   "id": "f5b8582a",
   "metadata": {},
   "source": []
  },
  {
   "cell_type": "markdown",
   "id": "de37b3c9",
   "metadata": {},
   "source": []
  },
  {
   "cell_type": "code",
   "execution_count": 1,
   "id": "3bff14f5",
   "metadata": {},
   "outputs": [
    {
     "ename": "ModuleNotFoundError",
     "evalue": "No module named 'pandas'",
     "output_type": "error",
     "traceback": [
      "\u001b[31m---------------------------------------------------------------------------\u001b[39m",
      "\u001b[31mModuleNotFoundError\u001b[39m                       Traceback (most recent call last)",
      "\u001b[36mCell\u001b[39m\u001b[36m \u001b[39m\u001b[32mIn[1]\u001b[39m\u001b[32m, line 2\u001b[39m\n\u001b[32m      1\u001b[39m \u001b[38;5;28;01mfrom\u001b[39;00m\u001b[38;5;250m \u001b[39m\u001b[34;01mpathlib\u001b[39;00m\u001b[38;5;250m \u001b[39m\u001b[38;5;28;01mimport\u001b[39;00m Path\n\u001b[32m----> \u001b[39m\u001b[32m2\u001b[39m \u001b[38;5;28;01mimport\u001b[39;00m\u001b[38;5;250m \u001b[39m\u001b[34;01mpandas\u001b[39;00m\u001b[38;5;250m \u001b[39m\u001b[38;5;28;01mas\u001b[39;00m\u001b[38;5;250m \u001b[39m\u001b[34;01mpd\u001b[39;00m\n\u001b[32m      3\u001b[39m \u001b[38;5;28;01mfrom\u001b[39;00m\u001b[38;5;250m \u001b[39m\u001b[34;01mbiom\u001b[39;00m\u001b[38;5;250m \u001b[39m\u001b[38;5;28;01mimport\u001b[39;00m load_table\n\u001b[32m      5\u001b[39m CLASSES = [\u001b[33m\"\u001b[39m\u001b[33magricultural\u001b[39m\u001b[33m\"\u001b[39m, \u001b[33m\"\u001b[39m\u001b[33mdesert\u001b[39m\u001b[33m\"\u001b[39m, \u001b[33m\"\u001b[39m\u001b[33mforest\u001b[39m\u001b[33m\"\u001b[39m, \u001b[33m\"\u001b[39m\u001b[33mgrassland\u001b[39m\u001b[33m\"\u001b[39m, \u001b[33m\"\u001b[39m\u001b[33mtropical_rainforest\u001b[39m\u001b[33m\"\u001b[39m]\n",
      "\u001b[31mModuleNotFoundError\u001b[39m: No module named 'pandas'"
     ]
    }
   ],
   "source": [
    "from pathlib import Path\n",
    "import pandas as pd\n",
    "from biom import load_table\n",
    "\n",
    "CLASSES = [\"agricultural\", \"desert\", \"forest\", \"grassland\", \"tropical_rainforest\"]\n",
    "INPUT_ROOT = Path(\"biom_data\")\n",
    "\n",
    "dfs = []\n",
    "info = []\n",
    "\n",
    "for label in CLASSES:\n",
    "    folder = INPUT_ROOT / label\n",
    "    if not folder.exists():\n",
    "        print(f\"Папка {folder} не найдена, пропускаю.\")\n",
    "        continue\n",
    "\n",
    "    for biom_path in sorted(folder.glob(\"*.biom\")):\n",
    "        try:\n",
    "            table = load_table(str(biom_path))\n",
    "            df = table.to_dataframe(dense=True)\n",
    "            df.index = df.index.astype(str)\n",
    "            df.columns = df.columns.astype(str)\n",
    "\n",
    "            # добавим столбец класса\n",
    "            df[\"class\"] = label\n",
    "            dfs.append(df)\n",
    "\n",
    "            info.append({\n",
    "                \"class\": label,\n",
    "                \"file\": biom_path.name,\n",
    "                \"n_obs\": df.shape[0],\n",
    "                \"n_samples\": df.shape[1] - 1,  # минус class\n",
    "            })\n",
    "\n",
    "            print(f\"✅ {biom_path.name} — OK ({df.shape[0]}×{df.shape[1]-1})\")\n",
    "\n",
    "        except Exception as e:\n",
    "            print(f\"Ошибка при чтении {biom_path.name}: {e}\")\n",
    "\n",
    "all_data = pd.concat(dfs, ignore_index=False)\n",
    "summary = pd.DataFrame(info)\n",
    "\n",
    "display(summary)\n",
    "print(f\"\\nИтоговый размер объединённого DataFrame: {all_data.shape}\")\n",
    "all_data.head()\n"
   ]
  },
  {
   "cell_type": "code",
   "execution_count": null,
   "id": "baaf0219",
   "metadata": {},
   "outputs": [],
   "source": []
  },
  {
   "cell_type": "code",
   "execution_count": null,
   "id": "7620cf91",
   "metadata": {},
   "outputs": [],
   "source": []
  }
 ],
 "metadata": {
  "kernelspec": {
   "display_name": ".venv",
   "language": "python",
   "name": "python3"
  },
  "language_info": {
   "codemirror_mode": {
    "name": "ipython",
    "version": 3
   },
   "file_extension": ".py",
   "mimetype": "text/x-python",
   "name": "python",
   "nbconvert_exporter": "python",
   "pygments_lexer": "ipython3",
   "version": "3.11.9"
  }
 },
 "nbformat": 4,
 "nbformat_minor": 5
}
